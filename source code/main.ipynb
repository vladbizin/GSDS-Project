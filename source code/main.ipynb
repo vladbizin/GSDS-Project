{
 "cells": [
  {
   "cell_type": "code",
   "execution_count": null,
   "metadata": {},
   "outputs": [],
   "source": [
    "from preprocess import *\n",
    "from utils import *\n",
    "from reports import *\n",
    "from train import *"
   ]
  },
  {
   "cell_type": "code",
   "execution_count": null,
   "metadata": {},
   "outputs": [],
   "source": [
    "train_bands, train_id, bands, le = read('hyper_bands_train.csv',\n",
    "                                    'species_id_train.csv',\n",
    "                                    'hyper_bands.csv')\n",
    "\n",
    "test_bands, test_id = read_test('hyper_bands_test.csv',\n",
    "                                'task3_ecodse.csv',\n",
    "                                le)"
   ]
  },
  {
   "cell_type": "code",
   "execution_count": null,
   "metadata": {},
   "outputs": [],
   "source": [
    "X_TEST, y_TEST, TEST_cr, TEST_id = prepare_testing_data(test_bands, test_id, bands)"
   ]
  },
  {
   "cell_type": "markdown",
   "metadata": {},
   "source": [
    "## Random Forest"
   ]
  },
  {
   "cell_type": "code",
   "execution_count": null,
   "metadata": {},
   "outputs": [],
   "source": [
    "params = {'max_depth': 100, 'min_impurity_decrease': 0.001, 'min_samples_split': 2, 'n_estimators': 1000}\n",
    "RF_clf = RF(params=params, encoder = le)"
   ]
  },
  {
   "cell_type": "code",
   "execution_count": null,
   "metadata": {},
   "outputs": [],
   "source": [
    "RF_clf.fit(train_bands, train_id, bands)"
   ]
  },
  {
   "cell_type": "code",
   "execution_count": null,
   "metadata": {},
   "outputs": [],
   "source": [
    "probs = RF_clf.predict_proba(X_TEST)\n",
    "real_report(TEST_id, probs, RF_clf.model, TEST_cr, le)"
   ]
  },
  {
   "cell_type": "markdown",
   "metadata": {},
   "source": [
    "## Cat Boost"
   ]
  },
  {
   "cell_type": "code",
   "execution_count": null,
   "metadata": {},
   "outputs": [],
   "source": [
    "params = {'n_estimators': 74, 'learning_rate': 0.08048020964881546, 'depth': 8, 'subsample': 0.434457987840736, 'colsample_bylevel': 0.43083256379219936, 'min_data_in_leaf': 18}\n",
    "CB_clf = CB(encoder = le)"
   ]
  },
  {
   "cell_type": "code",
   "execution_count": null,
   "metadata": {},
   "outputs": [],
   "source": [
    "CB_clf.fit(train_bands, train_id, bands)"
   ]
  },
  {
   "cell_type": "code",
   "execution_count": null,
   "metadata": {},
   "outputs": [],
   "source": [
    "probs = CB_clf.predict_proba(X_TEST)\n",
    "real_report(TEST_id, probs, CB_clf.model, TEST_cr, le)"
   ]
  },
  {
   "cell_type": "markdown",
   "metadata": {},
   "source": [
    "## XGBoost"
   ]
  },
  {
   "cell_type": "code",
   "execution_count": null,
   "metadata": {},
   "outputs": [],
   "source": [
    "params = {'colsample_bylevel': 0.396288472513028, 'eta': 1.0235936668221488, 'gamma': 5.582677202898291, 'max_depth': 9, 'n_estimators': 1331, 'subsample': 0.4203918921079012}\n",
    "XGB_clf = XGB(params = params, encoder = le)"
   ]
  },
  {
   "cell_type": "code",
   "execution_count": null,
   "metadata": {},
   "outputs": [],
   "source": [
    "XGB_clf.fit(train_bands, train_id, bands)"
   ]
  },
  {
   "cell_type": "code",
   "execution_count": null,
   "metadata": {},
   "outputs": [],
   "source": [
    "XGB_clf.calibrated"
   ]
  },
  {
   "cell_type": "code",
   "execution_count": null,
   "metadata": {},
   "outputs": [],
   "source": [
    "probs = XGB_clf.predict_proba(X_TEST)\n",
    "real_report(TEST_id, probs, XGB_clf.model, TEST_cr, le)"
   ]
  },
  {
   "cell_type": "code",
   "execution_count": null,
   "metadata": {},
   "outputs": [],
   "source": []
  },
  {
   "cell_type": "code",
   "execution_count": null,
   "metadata": {},
   "outputs": [],
   "source": []
  },
  {
   "cell_type": "code",
   "execution_count": null,
   "metadata": {},
   "outputs": [],
   "source": []
  },
  {
   "cell_type": "code",
   "execution_count": null,
   "metadata": {},
   "outputs": [],
   "source": []
  },
  {
   "cell_type": "code",
   "execution_count": null,
   "metadata": {},
   "outputs": [],
   "source": [
    "thresh = 3\n",
    "n_components = 20\n",
    "calib_size = 0.25\n",
    "test_size = 0.25\n",
    "n_samples = 400\n",
    "\n",
    "train_id = train_id[['crown_id', 'species_id']]\n",
    "X, y = train_bands.drop(columns = ['chm']),\\\n",
    "        pd.merge(train_bands[['crown_id']],\n",
    "                train_id,\n",
    "                on='crown_id', how='inner')\n",
    "\n",
    "\n",
    "# drop bad bands\n",
    "X = drop_bands(X, bands)\n",
    "\n",
    "# drop outliers\n",
    "X, y = drop_outliers(X, y, thresh)\n",
    "\n",
    "# PCA transform\n",
    "X = tansform(X, n_components)\n",
    "X = pd.concat(\n",
    "    [y[['crown_id']], pd.DataFrame(index = y.index, data = X)], axis = 1\n",
    ") \n",
    "X.reset_index(inplace=True, drop = True)\n",
    "\n",
    "# train-calibrare-test split based on crown IDs\n",
    "train_df, calib_df, test_df,\\\n",
    "    train_id, calib_id, test_id = split(X, y, train_id, calib_size, test_size)\n",
    "\n",
    "# resample\n",
    "X_train, y_train, X_calib,\\\n",
    "    y_calib, X_test, y_test = resample(train_df, calib_df, test_df, n_samples, calib_size, test_size)\n",
    "\n",
    "# prepare splits for cross-validation\n",
    "cv = cv_split(pd.concat([X_train, X_calib, X_test], axis = 0), pd.concat([train_id, calib_id, test_id], axis = 0), 5)\n",
    "\n",
    "\n",
    "X_train, y_train, = X_train.iloc[:, 1:].values, y_train.iloc[:, 1].values\n",
    "X_calib, y_calib, = X_calib.iloc[:, 1:].values, y_calib.iloc[:, 1].values\n",
    "X_test, y_test, test_cr =\\\n",
    "    X_test.iloc[:, 1:].values, y_test.iloc[:, 1].values, X_test.iloc[:, 0].values,"
   ]
  },
  {
   "cell_type": "code",
   "execution_count": null,
   "metadata": {},
   "outputs": [],
   "source": [
    "X_cv = np.vstack([X_train, X_calib, X_test])\n",
    "y_cv = np.hstack([y_train, y_calib, y_test])"
   ]
  },
  {
   "cell_type": "code",
   "execution_count": null,
   "metadata": {},
   "outputs": [],
   "source": [
    "cross_val_score(XGB_clf.model, X_cv, y_cv, scoring='accuracy', cv = cv).mean().round(4)"
   ]
  },
  {
   "cell_type": "code",
   "execution_count": null,
   "metadata": {},
   "outputs": [],
   "source": [
    "rf_accuracy = []\n",
    "rf_std = []\n",
    "cb_accuracy = []\n",
    "cb_std = []\n",
    "xgb_accuracy = []\n",
    "xgb_std = []\n",
    "from tqdm import tqdm"
   ]
  },
  {
   "cell_type": "code",
   "execution_count": null,
   "metadata": {},
   "outputs": [],
   "source": [
    "for n_components in tqdm(np.arange(10, 100, 10)):\n",
    "    X_train, y_train, X_calib, y_calib, X_test, y_test,\\\n",
    "        test_cr, test_id, train_cv = prepare_training_data(train_bands, train_id, bands, n_components=n_components)\n",
    "\n",
    "    res = cross_val_score(RF_clf.model, X_train, y_train, cv=train_cv, scoring='accuracy')\n",
    "    rf_accuracy.append(np.mean(res))\n",
    "    rf_std.append(np.std(res))\n",
    "\n",
    "    res = cross_val_score(CB_clf.model, X_train, y_train, cv=train_cv, scoring='accuracy')\n",
    "    cb_accuracy.append(np.mean(res))\n",
    "    cb_std.append(np.std(res))\n",
    "\n",
    "    res = cross_val_score(XGB_clf.model, X_train, y_train, cv=train_cv, scoring='accuracy')\n",
    "    xgb_accuracy.append(np.mean(res))\n",
    "    xgb_std.append(np.std(res))"
   ]
  },
  {
   "cell_type": "code",
   "execution_count": null,
   "metadata": {},
   "outputs": [],
   "source": []
  },
  {
   "cell_type": "code",
   "execution_count": null,
   "metadata": {},
   "outputs": [],
   "source": []
  },
  {
   "cell_type": "code",
   "execution_count": null,
   "metadata": {},
   "outputs": [],
   "source": []
  },
  {
   "cell_type": "code",
   "execution_count": null,
   "metadata": {},
   "outputs": [],
   "source": []
  },
  {
   "cell_type": "code",
   "execution_count": null,
   "metadata": {},
   "outputs": [],
   "source": []
  },
  {
   "cell_type": "code",
   "execution_count": null,
   "metadata": {},
   "outputs": [],
   "source": []
  },
  {
   "cell_type": "code",
   "execution_count": null,
   "metadata": {},
   "outputs": [],
   "source": []
  }
 ],
 "metadata": {
  "kernelspec": {
   "display_name": "Python 3",
   "language": "python",
   "name": "python3"
  },
  "language_info": {
   "codemirror_mode": {
    "name": "ipython",
    "version": 3
   },
   "file_extension": ".py",
   "mimetype": "text/x-python",
   "name": "python",
   "nbconvert_exporter": "python",
   "pygments_lexer": "ipython3",
   "version": "3.11.5"
  }
 },
 "nbformat": 4,
 "nbformat_minor": 2
}
